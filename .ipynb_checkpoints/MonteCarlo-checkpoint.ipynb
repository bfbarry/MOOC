{
 "cells": [
  {
   "cell_type": "code",
   "execution_count": 1,
   "metadata": {
    "ExecuteTime": {
     "end_time": "2020-05-04T22:37:16.195290Z",
     "start_time": "2020-05-04T22:37:16.191317Z"
    }
   },
   "outputs": [],
   "source": [
    "import random\n",
    "import statistics"
   ]
  },
  {
   "cell_type": "code",
   "execution_count": 2,
   "metadata": {
    "ExecuteTime": {
     "end_time": "2020-05-04T22:42:36.477959Z",
     "start_time": "2020-05-04T22:42:36.466881Z"
    }
   },
   "outputs": [],
   "source": [
    "def rollDie():\n",
    "    return random.choice([1,2,3,4,5,6])\n",
    "\n",
    "def checkPascal(numTrials): \n",
    "    \"\"\"Assumes numTrials an int > 0\n",
    "    Prints an estimate of the probability of winning\"\"\" \n",
    "    numWins = 0\n",
    "    for i in range(numTrials): \n",
    "        for j in range(24):\n",
    "            d1 = rollDie()\n",
    "            d2 = rollDie()\n",
    "            if d1 == 6 and d2 == 6:\n",
    "                numWins += 1\n",
    "                break\n",
    "    print('Probability of winning =', numWins/numTrials)"
   ]
  },
  {
   "cell_type": "code",
   "execution_count": 14,
   "metadata": {
    "ExecuteTime": {
     "end_time": "2020-04-30T18:16:48.528988Z",
     "start_time": "2020-04-30T18:16:48.513823Z"
    }
   },
   "outputs": [
    {
     "name": "stdout",
     "output_type": "stream",
     "text": [
      "Probability of winning = 0.48\n"
     ]
    }
   ],
   "source": [
    "checkPascal(100)"
   ]
  },
  {
   "cell_type": "code",
   "execution_count": 5,
   "metadata": {
    "ExecuteTime": {
     "end_time": "2020-05-04T23:08:23.883915Z",
     "start_time": "2020-05-04T23:08:23.865803Z"
    }
   },
   "outputs": [],
   "source": [
    "class CrapsGame(object): \n",
    "    def __init__(self):\n",
    "        self.passWins, self.passLosses = 0, 0\n",
    "        self.dpWins, self.dpLosses, self.dpPushes = 0, 0, 0\n",
    "    \n",
    "    def playHand(self):\n",
    "        #using table lookup\n",
    "        pointsDict = {4:1/3, 5:2/5, 6:5/11, 8:5/11, 9:2/5, 10:1/3}\n",
    "        throw = rollDie() + rollDie() \n",
    "        if throw == 7 or throw == 11:\n",
    "            self.passWins += 1\n",
    "            self.dpLosses += 1\n",
    "        elif throw == 2 or throw == 3 or throw == 12:\n",
    "            self.passLosses += 1 \n",
    "            if throw == 12:\n",
    "                self.dpPushes += 1 \n",
    "            else:\n",
    "                self.dpWins += 1\n",
    "        else:\n",
    "            if random.random() <= pointsDict[throw]: # point before 7\n",
    "                self.passWins += 1\n",
    "                self.dpLosses += 1\n",
    "            else: # 7 before point\n",
    "                self.passLosses += 1 \n",
    "                self.dpWins += 1\n",
    "\n",
    "    def passResults(self):\n",
    "        return (self.passWins, self.passLosses)\n",
    "    \n",
    "    def dpResults(self):\n",
    "        return (self.dpWins, self.dpLosses, self.dpPushes)"
   ]
  },
  {
   "cell_type": "code",
   "execution_count": 16,
   "metadata": {
    "ExecuteTime": {
     "end_time": "2020-05-04T23:26:59.275824Z",
     "start_time": "2020-05-04T23:26:59.260816Z"
    }
   },
   "outputs": [],
   "source": [
    "def crapsSim(handsPerGame, numGames):\n",
    "    \"\"\"Assumes handsPerGame and numGames are ints > 0\n",
    "    Play numGames games of handsPerGame hands; print results\"\"\" \n",
    "    games = []\n",
    "    #Play numGames games\n",
    "    for t in range(numGames):\n",
    "        c = CrapsGame()\n",
    "        for i in range(handsPerGame):\n",
    "            c.playHand() \n",
    "        games.append(c)\n",
    "    #Produce statistics for each game \n",
    "    pROIPerGame, dpROIPerGame = [], [] \n",
    "    for g in games:\n",
    "        wins, losses = g.passResults()\n",
    "        pROIPerGame.append((wins - losses)/float(handsPerGame)) \n",
    "        wins, losses, pushes = g.dpResults() \n",
    "        dpROIPerGame.append((wins - losses)/float(handsPerGame))\n",
    "    \n",
    "    #Produce and print summary statistics\n",
    "    meanROI = str(round((100*sum(pROIPerGame)/numGames), 4)) + '%' \n",
    "    sigma = str(round(100*statistics.stdev(pROIPerGame), 4)) + '%' \n",
    "    print('Pass:', 'Mean ROI =', meanROI, 'Std. Dev. =', sigma) \n",
    "    meanROI = str(round((100*sum(dpROIPerGame)/numGames), 4)) +'%' \n",
    "    sigma = str(round(100*statistics.stdev(dpROIPerGame), 4)) + '%' \n",
    "    print('Don\\'t pass:','Mean ROI =', meanROI, 'Std Dev =', sigma)"
   ]
  },
  {
   "cell_type": "code",
   "execution_count": 17,
   "metadata": {
    "ExecuteTime": {
     "end_time": "2020-05-04T23:26:59.706217Z",
     "start_time": "2020-05-04T23:26:59.691710Z"
    }
   },
   "outputs": [
    {
     "name": "stdout",
     "output_type": "stream",
     "text": [
      "Pass: Mean ROI = 12.0% Std. Dev. = 25.7337%\n",
      "Don't pass: Mean ROI = -14.5% Std Dev = 25.9754%\n"
     ]
    }
   ],
   "source": [
    "crapsSim(20, 10)"
   ]
  },
  {
   "cell_type": "code",
   "execution_count": null,
   "metadata": {},
   "outputs": [],
   "source": [
    "class BlackJack:"
   ]
  }
 ],
 "metadata": {
  "kernelspec": {
   "display_name": "Python 3",
   "language": "python",
   "name": "python3"
  },
  "language_info": {
   "codemirror_mode": {
    "name": "ipython",
    "version": 3
   },
   "file_extension": ".py",
   "mimetype": "text/x-python",
   "name": "python",
   "nbconvert_exporter": "python",
   "pygments_lexer": "ipython3",
   "version": "3.7.4"
  }
 },
 "nbformat": 4,
 "nbformat_minor": 2
}
