{
 "cells": [
  {
   "cell_type": "code",
   "execution_count": 27,
   "metadata": {},
   "outputs": [],
   "source": [
    "0,1,1,2,3,5,8,13\n",
    "def fib2(n):\n",
    "    fib = 0\n",
    "    fib2 = 1\n",
    "    while n != 0:\n",
    "        fib = fib + fib2\n",
    "        n-=1\n",
    "    return fib\n",
    "        \n",
    "def fib(n):\n",
    "    if n == 0:\n",
    "        return 0\n",
    "    if n == 1:\n",
    "        return 1\n",
    "\n",
    "    return fib(n-1) + fib(n-2)\n",
    "\n",
    "#-----------------------------------------------------------------------------\n",
    "\n",
    "class V2:\n",
    "    def __init__(self, x,y):\n",
    "        self.x = x\n",
    "        self.y = y\n",
    "    \n",
    "    def __str__(self):\n",
    "        return '['+ str(self.x) + ', ' + str(self.y) + ']'\n",
    "   \n",
    "    def getX(self):\n",
    "        return self.x\n",
    "    \n",
    "    def getY(self):\n",
    "        return self.y\n",
    "    \n",
    "    def add(self, other):\n",
    "        self.x = self.x + other.x\n",
    "        self.y = self.y + other.y\n",
    "        return self\n",
    "    \n",
    "    def __add__(self, other):\n",
    "        return self.add(other)\n",
    "    \n",
    "    def mul(self, scalar):\n",
    "        self.x = self.x * scalar\n",
    "        self.y = self.y * scalar\n",
    "        return self\n",
    "    \n",
    "    def __mul__(self, other):\n",
    "        return self.mul(other)\n",
    "    \n",
    "    \n",
    "#-----------------------------------------------------------------------------\n",
    "\n",
    "class Polynomial:\n",
    "    coeffs = []\n",
    "    def __init__(self, coefficients):\n",
    "        self.coefficients = coefficients\n",
    "    \n",
    "    def coeff(self, i):\n",
    "        return self.coefficients[-i-1]\n",
    "    \n",
    "    def add(self, other):\n",
    "        self_len = len(self.coefficients); other_len = len(other.coefficients)\n",
    "        max_len = max(self_len, other_len)\n",
    "        len_dif = abs(self_len-other_len)\n",
    "        \n",
    "        def reshape(coeffs): \n",
    "            for i in range(len_dif):\n",
    "                coeffs = [0] + coeffs\n",
    "\n",
    "            return coeffs\n",
    "        \n",
    "        if max_len == self_len:\n",
    "            summed_coeffs = reshape(other.coefficients)\n",
    "            summed_coeffs = [i + j for i,j in zip(summed_coeffs,self.coefficients)]\n",
    "            \n",
    "        else:\n",
    "            summed_coeffs = reshape(self.coefficients)\n",
    "            summed_coeffs = [i + j for i,j in zip(summed_coeffs,other.coefficients)]\n",
    "            \n",
    "        return summed_coeffs\n",
    "    \n",
    "    \n",
    "    def __add__(self,other):\n",
    "        return self.add(other)\n",
    "    \n",
    "    def mul(self,other):\n",
    "        pass\n",
    "    \n",
    "    def __mul__(self,other):\n",
    "        return self.mul(other)\n",
    "\n",
    "    def __str__(self):\n",
    "        self.exponents = [len(self.coefficients) - self.coefficients.index(i) - 1 for i in self.coefficients]\n",
    "        x_terms = ['x**' + str(i) if i>1 else 'x' for i in self.exponents][:-1] + ['']\n",
    "        str_pol = \"\"\n",
    "        for i,j in zip(self.coefficients,x_terms):\n",
    "            str_pol = str_pol + i + str(j) + '+'j\n",
    "            \n",
    "        return str_pol\n",
    "    \n",
    "    def val(self,v):\n",
    "        def poly_f(v):\n",
    "            running_sum = 0\n",
    "            for c,e in zip(self.coefficients, self.exponents):\n",
    "                running_sum = running_sum + c*v**e\n",
    "            return running_sum\n",
    "        return poly_f(v)\n",
    "                \n",
    "\n",
    "    def __call__(self, x):\n",
    "        return self.val(x)"
   ]
  },
  {
   "cell_type": "code",
   "execution_count": 71,
   "metadata": {},
   "outputs": [
    {
     "data": {
      "text/plain": [
       "4"
      ]
     },
     "execution_count": 71,
     "metadata": {},
     "output_type": "execute_result"
    }
   ],
   "source": [
    "range(5)[-1]"
   ]
  },
  {
   "cell_type": "code",
   "execution_count": 108,
   "metadata": {},
   "outputs": [
    {
     "data": {
      "text/plain": [
       "'a1+b2+c3+'"
      ]
     },
     "execution_count": 108,
     "metadata": {},
     "output_type": "execute_result"
    }
   ],
   "source": [
    "string = \"\"\n",
    "for i,j in zip(['a','b','c'],[1,2,3]):\n",
    "    string = string + i + str(j) + '+'\n",
    "\n",
    "string"
   ]
  }
 ],
 "metadata": {
  "kernelspec": {
   "display_name": "Python 3",
   "language": "python",
   "name": "python3"
  },
  "language_info": {
   "codemirror_mode": {
    "name": "ipython",
    "version": 3
   },
   "file_extension": ".py",
   "mimetype": "text/x-python",
   "name": "python",
   "nbconvert_exporter": "python",
   "pygments_lexer": "ipython3",
   "version": "3.7.4"
  }
 },
 "nbformat": 4,
 "nbformat_minor": 2
}
