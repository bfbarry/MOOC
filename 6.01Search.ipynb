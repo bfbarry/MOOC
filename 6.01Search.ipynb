{
 "cells": [
  {
   "cell_type": "code",
   "execution_count": 5,
   "metadata": {
    "ExecuteTime": {
     "end_time": "2020-05-04T04:04:01.185656Z",
     "start_time": "2020-05-04T04:04:01.176869Z"
    },
    "scrolled": true
   },
   "outputs": [],
   "source": [
    "map1 = {'S' : ['A', 'B'],\n",
    "'A' : ['S', 'C', 'D'],\n",
    "'B' : ['S', 'D', 'E'],\n",
    "'C' : ['A', 'F'],\n",
    "'D' : ['A', 'B', 'F', 'H'],\n",
    "'E' : ['B', 'H'],\n",
    "'F' : ['C', 'D', 'G'],\n",
    "'H' : ['D', 'E', 'G'],\n",
    "'G' : ['F', 'H']}"
   ]
  },
  {
   "cell_type": "code",
   "execution_count": 6,
   "metadata": {
    "ExecuteTime": {
     "end_time": "2020-05-04T04:04:01.475253Z",
     "start_time": "2020-05-04T04:04:01.470474Z"
    }
   },
   "outputs": [],
   "source": [
    "def map1successors(s, a):\n",
    "    return map1[s][a]"
   ]
  },
  {
   "cell_type": "code",
   "execution_count": 7,
   "metadata": {
    "ExecuteTime": {
     "end_time": "2020-05-04T04:04:01.710978Z",
     "start_time": "2020-05-04T04:04:01.693614Z"
    }
   },
   "outputs": [
    {
     "data": {
      "text/plain": [
       "'A'"
      ]
     },
     "execution_count": 7,
     "metadata": {},
     "output_type": "execute_result"
    }
   ],
   "source": [
    "map1successors('S',0)"
   ]
  },
  {
   "cell_type": "code",
   "execution_count": 8,
   "metadata": {
    "ExecuteTime": {
     "end_time": "2020-05-04T04:04:01.908300Z",
     "start_time": "2020-05-04T04:04:01.897618Z"
    }
   },
   "outputs": [],
   "source": [
    "class SearchNode:\n",
    "    def __init__(self, action, state, parent):\n",
    "        self.state = state\n",
    "        self.action = action\n",
    "        self.parent = parent\n",
    "        \n",
    "    def path(self):\n",
    "        if self.parent == None:\n",
    "            return [(self.action, self.state)]\n",
    "        else:\n",
    "            return self.parent.path() + [(self.action, self.state)]\n",
    "        \n",
    "    def inPath(self, s):\n",
    "        if s == self.state:\n",
    "            return True\n",
    "        elif self.parent == None:\n",
    "            return False\n",
    "        else:\n",
    "            return self.parent.inPath(s)"
   ]
  },
  {
   "cell_type": "code",
   "execution_count": 12,
   "metadata": {
    "ExecuteTime": {
     "end_time": "2020-05-04T04:04:11.764265Z",
     "start_time": "2020-05-04T04:04:11.758731Z"
    }
   },
   "outputs": [],
   "source": [
    "s = SearchNode(1,'D','B')"
   ]
  },
  {
   "cell_type": "code",
   "execution_count": 11,
   "metadata": {
    "ExecuteTime": {
     "end_time": "2020-05-04T04:04:03.510184Z",
     "start_time": "2020-05-04T04:04:03.498561Z"
    }
   },
   "outputs": [],
   "source": [
    "def search(initialState, goalTest, actions, successor):\n",
    "    if goalTest(initialState):\n",
    "        return [(None, initialState)]\n",
    "    agenda = EmptyAgenda()\n",
    "    add(SearchNode(None, initialState, None), agenda)\n",
    "    while not empty(agenda):\n",
    "        parent = getElement(agenda)\n",
    "        for a in actions(parent.state):\n",
    "            newS = successor(parent.state, a)\n",
    "            newN = SearchNode(a, newS, parent)\n",
    "            if goalTest(newS):\n",
    "                return newN.path()\n",
    "            else:\n",
    "                add(newN, agenda)\n",
    "    return None"
   ]
  },
  {
   "cell_type": "markdown",
   "metadata": {},
   "source": [
    "### Stacks, qeues"
   ]
  },
  {
   "cell_type": "code",
   "execution_count": 44,
   "metadata": {
    "ExecuteTime": {
     "end_time": "2020-05-04T04:11:51.653227Z",
     "start_time": "2020-05-04T04:11:51.640562Z"
    }
   },
   "outputs": [],
   "source": [
    "class Stack:\n",
    "    def __init__(self):\n",
    "        self.data = []\n",
    "    def push(self, item):\n",
    "        self.data.append(item)\n",
    "    def pop(self):\n",
    "        return self.data.pop()\n",
    "    def isEmpty(self):\n",
    "        return self.data is []\n",
    "    def __str__(self):\n",
    "        return str(self.data)"
   ]
  },
  {
   "cell_type": "code",
   "execution_count": 45,
   "metadata": {
    "ExecuteTime": {
     "end_time": "2020-05-04T04:11:53.046368Z",
     "start_time": "2020-05-04T04:11:53.036470Z"
    }
   },
   "outputs": [],
   "source": [
    "class Queue:\n",
    "    def __init__(self):\n",
    "        self.data = []\n",
    "    def push(self, item):\n",
    "        self.data.append(item)\n",
    "    def pop(self):\n",
    "        self.data.reverse.pop(0)"
   ]
  },
  {
   "cell_type": "code",
   "execution_count": 46,
   "metadata": {
    "ExecuteTime": {
     "end_time": "2020-05-04T04:11:56.465719Z",
     "start_time": "2020-05-04T04:11:56.456989Z"
    }
   },
   "outputs": [
    {
     "name": "stdout",
     "output_type": "stream",
     "text": [
      "4\n"
     ]
    }
   ],
   "source": [
    "a = Stack()\n",
    "a.push(3); a.push(5); a.push(4)\n",
    "par = a.pop()\n",
    "print(par)"
   ]
  },
  {
   "cell_type": "code",
   "execution_count": null,
   "metadata": {},
   "outputs": [],
   "source": []
  }
 ],
 "metadata": {
  "kernelspec": {
   "display_name": "Python 3",
   "language": "python",
   "name": "python3"
  },
  "language_info": {
   "codemirror_mode": {
    "name": "ipython",
    "version": 3
   },
   "file_extension": ".py",
   "mimetype": "text/x-python",
   "name": "python",
   "nbconvert_exporter": "python",
   "pygments_lexer": "ipython3",
   "version": "3.7.4"
  }
 },
 "nbformat": 4,
 "nbformat_minor": 2
}
