{
 "cells": [
  {
   "cell_type": "code",
   "execution_count": 9,
   "metadata": {},
   "outputs": [
    {
     "data": {
      "text/plain": [
       "4"
      ]
     },
     "execution_count": 9,
     "metadata": {},
     "output_type": "execute_result"
    }
   ],
   "source": [
    "def do_twice(f,x):\n",
    "    return f(f(x))\n",
    "\n",
    "do_twice(lambda x: x+1,2)"
   ]
  },
  {
   "cell_type": "code",
   "execution_count": 19,
   "metadata": {},
   "outputs": [
    {
     "name": "stdout",
     "output_type": "stream",
     "text": [
      "11111\n"
     ]
    }
   ],
   "source": [
    "def bunchaOnes(n):\n",
    "    if n == 0:\n",
    "        return ''\n",
    "    else:\n",
    "        return '1' + bunchaOnes(n-1) \n",
    "\n",
    "print(bunchaOnes(5))"
   ]
  },
  {
   "cell_type": "code",
   "execution_count": 21,
   "metadata": {},
   "outputs": [
    {
     "name": "stdout",
     "output_type": "stream",
     "text": [
      "25\n"
     ]
    }
   ],
   "source": [
    "def mult(a,b):\n",
    "    if a == 0:\n",
    "        return 0\n",
    "    else:\n",
    "        return b + mult(a-1,b)\n",
    "    \n",
    "print(mult(5,5))"
   ]
  },
  {
   "cell_type": "code",
   "execution_count": 39,
   "metadata": {},
   "outputs": [
    {
     "data": {
      "text/plain": [
       "55"
      ]
     },
     "execution_count": 39,
     "metadata": {},
     "output_type": "execute_result"
    }
   ],
   "source": [
    "def argmax(elts,f):\n",
    "    output = [f(i) for i in elts]\n",
    "#     curr_max = 0\n",
    "#     max_i = 0\n",
    "#     for i in output:\n",
    "#         if i > max_i:\n",
    "#             max_i = i\n",
    "#     return max_i\n",
    "    return elts[output.index(max(output))]\n",
    "\n",
    "argmax([1,4,2,55,5,6,8,22,5,7,8,3], lambda x: )"
   ]
  },
  {
   "cell_type": "code",
   "execution_count": 34,
   "metadata": {},
   "outputs": [],
   "source": [
    "class library:\n",
    "    dailyFine = 0.25\n",
    "    \n",
    "    def __init__(self, books):\n",
    "        self.shelf = {}\n",
    "        for book in books:\n",
    "            self.shelf[book] = (None, None) #patron, dueDate\n",
    "\n",
    "    def checkOut(self, book, patron, date):\n",
    "        self.shelf[book] = (patron, date+7)\n",
    "    \n",
    "    def checkIn(self, book, date):\n",
    "        patron, duedate = self.shelf[book]\n",
    "        self.shelf[book] = (None,None)\n",
    "\n",
    "        return max(0.0,(date0due))*self.dailyFine\n",
    "            \n",
    "    def overdueBooks(self, patron, date):\n",
    "        patron_books = []\n",
    "        for book in self.books\n",
    "            p, d = self.shelf[book]\n",
    "            if p and d p == patron and date > d:\n",
    "                patron_books.append(book)\n",
    "        return patron_books\n",
    "        "
   ]
  },
  {
   "cell_type": "code",
   "execution_count": 80,
   "metadata": {},
   "outputs": [
    {
     "name": "stdout",
     "output_type": "stream",
     "text": [
      "3\n"
     ]
    }
   ],
   "source": [
    "print(2 and 3)"
   ]
  },
  {
   "cell_type": "code",
   "execution_count": 37,
   "metadata": {},
   "outputs": [],
   "source": [
    "class Staff601:\n",
    "    course = '6.01'\n",
    "    building = 34\n",
    "    room = 501\n",
    "    def salutation(self):\n",
    "        return self.role + ' ' + self.name\n",
    "    \n",
    "Bung = Staff601()\n",
    "Bung.face = 'weird'\n",
    "Bung.room = 69\n",
    "Bung.role = 'Boss'\n",
    "Bung.name = 'Man'"
   ]
  },
  {
   "cell_type": "code",
   "execution_count": 4,
   "metadata": {},
   "outputs": [],
   "source": [
    "class IntSet(object):\n",
    "    \"\"\"An intSet is a set of integers\"\"\"\n",
    "    #Information about the implementation (not the abstraction)\n",
    "    #Value of the set is represented by a list of ints, self.vals.\n",
    "    #Each int in the set occurs in self.vals exactly once.\n",
    "    def __init__(self):\n",
    "        \"\"\"Create an empty set of integers\"\"\"\n",
    "        self.vals = []\n",
    "    def insert(self, e):\n",
    "        \"\"\"Assumes e is an integer and inserts e into self\"\"\"\n",
    "        if e not in self.vals:\n",
    "            self.vals.append(e)\n",
    "    def member(self, e):\n",
    "        \"\"\"Assumes e is an integer\n",
    "        Returns True if e is in self, and False otherwise\"\"\"\n",
    "        return e in self.vals\n",
    "    def remove(self, e):\n",
    "        \"\"\"Assumes e is an integer and removes e from self\n",
    "        Raises ValueError if e is not in self\"\"\"\n",
    "        try:\n",
    "            self.vals.remove(e)\n",
    "        except:\n",
    "            raise ValueError(str(e) + ' not found')\n",
    "    def getMembers(self):\n",
    "        \"\"\"Returns a list containing the elements of self.\n",
    "        Nothing can be assumed about the order of the elements\"\"\"\n",
    "        return self.vals[:]\n",
    "    def __str__(self):\n",
    "        \"\"\"Returns a string representation of self\"\"\"\n",
    "        self.vals.sort()\n",
    "        result = ''\n",
    "        for e in self.vals:\n",
    "            result = result + str(e) + ','\n",
    "        return '{' + result[:-1] + '}' #-1 omits trailing comma"
   ]
  },
  {
   "cell_type": "markdown",
   "metadata": {},
   "source": [
    "The representation invariant defines which values of the data attributes correspond\n",
    "to valid representations of class instances. The representation invariant\n",
    "for IntSet is that vals contains no duplicates. The implementation of __init__ is\n",
    "responsible for establishing the invariant (which holds on the empty list), and the\n",
    "other methods are responsible for maintaining that invariant."
   ]
  },
  {
   "cell_type": "code",
   "execution_count": null,
   "metadata": {},
   "outputs": [],
   "source": []
  },
  {
   "cell_type": "code",
   "execution_count": 6,
   "metadata": {},
   "outputs": [
    {
     "data": {
      "text/plain": [
       "5"
      ]
     },
     "execution_count": 6,
     "metadata": {},
     "output_type": "execute_result"
    }
   ],
   "source": [
    "i = '1234446'\n",
    "i.rindex('4')"
   ]
  },
  {
   "cell_type": "code",
   "execution_count": 8,
   "metadata": {},
   "outputs": [
    {
     "data": {
      "text/plain": [
       "True"
      ]
     },
     "execution_count": 8,
     "metadata": {},
     "output_type": "execute_result"
    }
   ],
   "source": [
    "'B' > 'A'"
   ]
  },
  {
   "cell_type": "code",
   "execution_count": 9,
   "metadata": {},
   "outputs": [
    {
     "name": "stdout",
     "output_type": "stream",
     "text": [
      "['a', 'b', 'c']\n"
     ]
    }
   ],
   "source": [
    "l = ['a', 'b', 'c']\n",
    "l.sort()\n",
    "print(l)"
   ]
  },
  {
   "cell_type": "code",
   "execution_count": 5,
   "metadata": {},
   "outputs": [
    {
     "data": {
      "text/plain": [
       "8"
      ]
     },
     "execution_count": 5,
     "metadata": {},
     "output_type": "execute_result"
    }
   ],
   "source": [
    "a = 'a a a a a '\n",
    "a.rindex('a')"
   ]
  },
  {
   "cell_type": "code",
   "execution_count": 5,
   "metadata": {},
   "outputs": [],
   "source": [
    "import datetime\n",
    "class Person(object):\n",
    "    \n",
    "    def __init__(self, name):\n",
    "        \"\"\"Create a person\"\"\"\n",
    "        self.name = name\n",
    "        try:\n",
    "            lastBlank = name.rindex(' ')\n",
    "            self.lastName = name[lastBlank+1:]\n",
    "        except:\n",
    "            self.lastName = name\n",
    "            self.birthday = None\n",
    "            \n",
    "    def getName(self):\n",
    "        \"\"\"Returns self's full name\"\"\"\n",
    "        return self.name\n",
    "    \n",
    "    def getLastName(self):\n",
    "        \"\"\"Returns self's last name\"\"\"\n",
    "        return self.lastName\n",
    "    \n",
    "    def setBirthday(self, birthdate):\n",
    "        \"\"\"Assumes birthdate is of type datetime.date\n",
    "            Sets self's birthday to birthdate\"\"\"\n",
    "        self.birthday = birthdate\n",
    "        \n",
    "    def getAge(self):\n",
    "        \"\"\"Returns self's current age in days\"\"\"\n",
    "        if self.birthday == None:\n",
    "            raise ValueError\n",
    "        return (datetime.date.today() - self.birthday).days\n",
    "    \n",
    "    def __lt__(self, other):\n",
    "        \"\"\"Returns True if self precedes other in alphabetical\n",
    "            order, and False otherwise. Comparison is based on last\n",
    "            names, but if these are the same full names are\n",
    "            compared.\"\"\"\n",
    "        if self.lastName == other.lastName:\n",
    "            return self.name < other.name\n",
    "        return self.lastName < other.lastName\n",
    "    \n",
    "#     def __gt__(self, other):\n",
    "#         \"\"\"Returns True if self proceeds other in alphabetical\n",
    "#             order, and False otherwise. Comparison is based on last\n",
    "#             names, but if these are the same full names are\n",
    "#             compared.\"\"\"\n",
    "#         if self.lastName == other.lastName:\n",
    "#             return self.name > other.name\n",
    "#         return self.lastName > other.lastName\n",
    "    \n",
    "    def __str__(self):\n",
    "        \"\"\"Returns self's name\"\"\"\n",
    "        return self.name\n",
    "    \n"
   ]
  },
  {
   "cell_type": "markdown",
   "metadata": {},
   "source": [
    "### now make own object\n"
   ]
  },
  {
   "cell_type": "code",
   "execution_count": 22,
   "metadata": {},
   "outputs": [
    {
     "name": "stdout",
     "output_type": "stream",
     "text": [
      "Obama\n",
      "Barack Hussein Obama is 21377 days old\n"
     ]
    }
   ],
   "source": [
    "me = Person('Michael Guttag')\n",
    "him = Person('Barack Hussein Obama')\n",
    "her = Person('Madonna')\n",
    "print(him.getLastName())\n",
    "him.setBirthday(datetime.date(1961, 8, 4))\n",
    "her.setBirthday(datetime.date(1958, 8, 16))\n",
    "print(him.getName(), 'is', him.getAge(), 'days old')"
   ]
  },
  {
   "cell_type": "code",
   "execution_count": 23,
   "metadata": {},
   "outputs": [
    {
     "name": "stdout",
     "output_type": "stream",
     "text": [
      "a\n",
      "b\n"
     ]
    }
   ],
   "source": [
    "print('a')\n",
    "print('b')"
   ]
  },
  {
   "cell_type": "code",
   "execution_count": 13,
   "metadata": {},
   "outputs": [
    {
     "name": "stdout",
     "output_type": "stream",
     "text": [
      "Michael Guttag\n",
      "Barack Hussein Obama\n",
      "Madonna\n",
      "Michael Guttag\n",
      "Madonna\n",
      "Barack Hussein Obama\n"
     ]
    }
   ],
   "source": [
    "pList = [me, him, her]\n",
    "for p in pList:\n",
    "    print(p)\n",
    "pList.sort()\n",
    "for p in pList:\n",
    "    print(p)"
   ]
  },
  {
   "cell_type": "code",
   "execution_count": 10,
   "metadata": {},
   "outputs": [
    {
     "data": {
      "text/plain": [
       "True"
      ]
     },
     "execution_count": 10,
     "metadata": {},
     "output_type": "execute_result"
    }
   ],
   "source": [
    "'p'.__gt__('g')"
   ]
  },
  {
   "cell_type": "code",
   "execution_count": 6,
   "metadata": {},
   "outputs": [],
   "source": [
    "class MITPerson(Person):\n",
    "    \n",
    "    nextIdNum = 0 #identification number\n",
    "   \n",
    "    def __init__(self, name):\n",
    "        Person.__init__(self, name)\n",
    "        # or super(MITPerson, self).__init__(self, name)\n",
    "        self.idNum = MITPerson.nextIdNum\n",
    "        MITPerson.nextIdNum += 1\n",
    "    \n",
    "    def getIdNum(self):\n",
    "        return self.idNum\n",
    "    \n",
    "    def __lt__(self, other):\n",
    "        try:\n",
    "            return self.idNum < other.idNum\n",
    "        except:\n",
    "            return self.name < other.name\n",
    "        \n",
    "        \n",
    "#     def __gt__(self, other):\n",
    "#         return self.idNum > other.idNum"
   ]
  },
  {
   "cell_type": "code",
   "execution_count": 54,
   "metadata": {},
   "outputs": [
    {
     "name": "stdout",
     "output_type": "stream",
     "text": [
      "p1 < p2 = True\n",
      "p3 < p2 = False\n",
      "p4 < p1 = True\n",
      "p1 < p4 = False\n"
     ]
    }
   ],
   "source": [
    "p1 = MITPerson('Mark Guttag')\n",
    "p2 = MITPerson('Billy Bob Beaver')\n",
    "p3 = MITPerson('Billy Bob Beaver')\n",
    "p4 = Person('Billy Bob Beaver')\n",
    "\n",
    "\n",
    "print('p1 < p2 =', p1 < p2)\n",
    "print('p3 < p2 =', p3 < p2)\n",
    "print('p4 < p1 =', p4 < p1)\n",
    "print('p1 < p4 =', p1 < p4)"
   ]
  },
  {
   "cell_type": "code",
   "execution_count": 52,
   "metadata": {},
   "outputs": [
    {
     "data": {
      "text/plain": [
       "False"
      ]
     },
     "execution_count": 52,
     "metadata": {},
     "output_type": "execute_result"
    }
   ],
   "source": [
    "p1.setBirthday(datetime.date(1958, 8, 16))\n",
    "p1.name < p4.name"
   ]
  },
  {
   "cell_type": "code",
   "execution_count": 7,
   "metadata": {},
   "outputs": [],
   "source": [
    "class Student(MITPerson):\n",
    "    pass\n",
    "\n",
    "class UG(Student):\n",
    "    def __init__(self, name, classYear):\n",
    "        MITPerson.__init__(self, name)\n",
    "        self.year = classYear\n",
    "    def getClass(self):\n",
    "        return self.year\n",
    "\n",
    "class Grad(Student):\n",
    "    pass"
   ]
  },
  {
   "cell_type": "markdown",
   "metadata": {},
   "source": [
    "### 8.3 encapsulation"
   ]
  },
  {
   "cell_type": "code",
   "execution_count": 8,
   "metadata": {},
   "outputs": [],
   "source": [
    "class Grades(object):\n",
    "    \n",
    "    def __init__(self):\n",
    "        \"\"\"Create empty grade book\"\"\"\n",
    "        self.students = []\n",
    "        self.grades = {}\n",
    "        self.isSorted = True\n",
    "        \n",
    "    def addStudent(self, student):\n",
    "        \"\"\"Assumes: student is of type Student\n",
    "        Add student to the grade book\"\"\"\n",
    "        if student in self.students:\n",
    "            raise ValueError('Duplicate student')\n",
    "        self.students.append(student)\n",
    "        self.grades[student.getIdNum()] = []\n",
    "        self.isSorted = False\n",
    "        \n",
    "    def addGrade(self, student, grade):\n",
    "        \"\"\"Assumes: grade is a float\n",
    "        Add grade to the list of grades for student\"\"\"\n",
    "        try:\n",
    "            self.grades[student.getIdNum()].append(grade)\n",
    "        except:\n",
    "            raise ValueError('Student not in mapping')\n",
    "            \n",
    "    def getGrades(self, student):\n",
    "        \"\"\"Return a list of grades for student\"\"\"\n",
    "        try: #return copy of list of student's grades\n",
    "            return self.grades[student.getIdNum()][:]\n",
    "        except:\n",
    "            raise ValueError('Student not in mapping')\n",
    "            \n",
    "    def getStudents(self):\n",
    "        \"\"\"Return a sorted list of the students in the grade book\"\"\"\n",
    "        if not self.isSorted:\n",
    "            self.students.sort()\n",
    "            self.isSorted = True\n",
    "        return self.students[:] #return copy of list of students\n",
    "    \n",
    "    \n",
    "    \n",
    "    def getStudents(self):\n",
    "        \"\"\"Return the students in the grade book one at a time\n",
    "        in alphabetical order\"\"\"\n",
    "        if not self.isSorted:\n",
    "            self.students.sort()\n",
    "            self.isSorted = True\n",
    "        for s in self.students:\n",
    "            yield s"
   ]
  },
  {
   "cell_type": "code",
   "execution_count": 13,
   "metadata": {},
   "outputs": [],
   "source": [
    "def gradeReport(course):\n",
    "    \"\"\"Assumes course is of type Grades\"\"\"\n",
    "    report = ''\n",
    "    for s in course.getStudents():\n",
    "        tot = 0.0\n",
    "        numGrades = 0\n",
    "        for g in course.getGrades(s):\n",
    "            tot += g\n",
    "            numGrades += 1\n",
    "        try:\n",
    "            average = tot/numGrades\n",
    "            report = report + '\\n'\\\n",
    "+ str(s) + '\\'s mean grade is ' + str(average)\n",
    "        except ZeroDivisionError:\n",
    "            report = report + '\\n'\\\n",
    "+ str(s) + ' has no grades'\n",
    "    return report"
   ]
  },
  {
   "cell_type": "code",
   "execution_count": 15,
   "metadata": {},
   "outputs": [
    {
     "name": "stdout",
     "output_type": "stream",
     "text": [
      "\n",
      "Jane Doe's mean grade is 75.0\n",
      "John Doe's mean grade is 75.0\n",
      "David Henry has no grades\n",
      "Billy Buckner's mean grade is 50.0\n",
      "Bucky F. Dent's mean grade is 87.5\n"
     ]
    }
   ],
   "source": [
    "ug1 = UG('Jane Doe', 2014)\n",
    "ug2 = UG('John Doe', 2015)\n",
    "ug3 = UG('David Henry', 2003)\n",
    "g1 = Grad('Billy Buckner')\n",
    "g2 = Grad('Bucky F. Dent')\n",
    "sixHundred = Grades()\n",
    "sixHundred.addStudent(ug1)\n",
    "sixHundred.addStudent(ug2)\n",
    "sixHundred.addStudent(g1)\n",
    "sixHundred.addStudent(g2)\n",
    "for s in sixHundred.getStudents():\n",
    "    sixHundred.addGrade(s, 75)\n",
    "sixHundred.addGrade(g1, 25)\n",
    "sixHundred.addGrade(g2, 100)\n",
    "sixHundred.addStudent(ug3)\n",
    "print(gradeReport(sixHundred))"
   ]
  },
  {
   "cell_type": "markdown",
   "metadata": {},
   "source": [
    "## GEnereators"
   ]
  },
  {
   "cell_type": "code",
   "execution_count": 16,
   "metadata": {},
   "outputs": [],
   "source": [
    "### Non generator fib generator\n",
    "\n",
    "fib = []\n",
    "a,b = 0,1\n",
    "\n",
    "for i in range(10):\n",
    "    c = a + b\n",
    "    fib.append(c)\n",
    "    a,b = b,c\n",
    "    \n",
    "    "
   ]
  },
  {
   "cell_type": "code",
   "execution_count": 20,
   "metadata": {},
   "outputs": [
    {
     "name": "stdout",
     "output_type": "stream",
     "text": [
      "1\n",
      "2\n",
      "3\n",
      "5\n",
      "8\n",
      "13\n",
      "21\n",
      "34\n",
      "55\n",
      "89\n"
     ]
    }
   ],
   "source": [
    "def genFibs(n):\n",
    "    a,b = 0,1\n",
    "    for i in range(n):\n",
    "        c =a+b\n",
    "        yield c\n",
    "        a,b=b,c\n",
    "\n",
    "for fib in genFibs(10):\n",
    "    print(fib)"
   ]
  },
  {
   "cell_type": "code",
   "execution_count": 1,
   "metadata": {},
   "outputs": [],
   "source": [
    "def findPayment(loan, r, m):\n",
    "    \"\"\"Assumes: loan and r are floats, m an int\n",
    "    Returns the monthly payment for a mortgage of size\n",
    "    loan at a monthly rate of r for m months\"\"\"\n",
    "    \n",
    "    return loan*((r*(1+r)**m)/((1+r)**m - 1))\n",
    "\n",
    "class Mortgage(object):\n",
    "    \"\"\"Abstract class for building different kinds of mortgages\"\"\"\n",
    "    \n",
    "    def __init__(self, loan, annRate, months):\n",
    "        \"\"\"Assumes: loan and annRate are floats, months an int\n",
    "        Creates a new mortgage of size loan, duration months, and\n",
    "        annual rate annRate\"\"\"\n",
    "        self.loan = loan\n",
    "        self.rate = annRate/12\n",
    "        self.months = months\n",
    "        self.paid = [0.0]\n",
    "        self.outstanding = [loan]\n",
    "        self.payment = findPayment(loan, self.rate, months)\n",
    "        self.legend = None #description of mortgage\n",
    "    \n",
    "    def makePayment(self):\n",
    "        \"\"\"Make a payment\"\"\"\n",
    "        self.paid.append(self.payment)\n",
    "        reduction = self.payment - self.outstanding[-1]*self.rate\n",
    "        self.outstanding.append(self.outstanding[-1] - reduction)\n",
    "    \n",
    "    def getTotalPaid(self):\n",
    "        \"\"\"Return the total amount paid so far\"\"\"\n",
    "        return sum(self.paid)\n",
    "    \n",
    "    def __str__(self):\n",
    "        return self.legend"
   ]
  },
  {
   "cell_type": "markdown",
   "metadata": {},
   "source": [
    "subclasses!"
   ]
  },
  {
   "cell_type": "code",
   "execution_count": 3,
   "metadata": {},
   "outputs": [],
   "source": [
    "class Fixed(Mortgage):\n",
    "    def __init__(self, loan, r, months):\n",
    "        Mortgage.__init__(self, loan, r, months)\n",
    "        self.legend = 'Fixed, ' + str(round(r*100, 2)) + '%'\n",
    "\n",
    "class FixedWithPts(Mortgage):\n",
    "    def __init__(self, loan, r, months, pts):\n",
    "        Mortgage.__init__(self, loan, r, months)\n",
    "        self.pts = pts\n",
    "        self.paid = [loan*(pts/100)]\n",
    "        self.legend = 'Fixed, ' + str(round(r*100, 2)) + '%, '\\\n",
    "                    + str(pts) + ' points'\n",
    "class TwoRate(Mortgage):\n",
    "    def __init__(self, loan, r, months, teaserRate, teaserMonths):\n",
    "        Mortgage.__init__(self, loan, teaserRate, months)\n",
    "        self.teaserMonths = teaserMonths\n",
    "        self.teaserRate = teaserRate\n",
    "        self.nextRate = r/12\n",
    "        self.legend = str(teaserRate*100)\\\n",
    "                    + '% for ' + str(self.teaserMonths)\\\n",
    "                    + ' months, then ' + str(round(r*100, 2)) + '%'\n",
    "def makePayment(self):\n",
    "    if len(self.paid) == self.teaserMonths + 1:\n",
    "        self.rate = self.nextRate\n",
    "        self.payment = findPayment(self.outstanding[-1],\n",
    "                                self.rate,\n",
    "                                self.months - self.teaserMonths)\n",
    "    Mortgage.makePayment(self)"
   ]
  },
  {
   "cell_type": "markdown",
   "metadata": {},
   "source": [
    "compare mortgages"
   ]
  },
  {
   "cell_type": "code",
   "execution_count": 5,
   "metadata": {},
   "outputs": [
    {
     "name": "stdout",
     "output_type": "stream",
     "text": [
      "Fixed, 7.0%\n",
      " Total payments = $479017\n",
      "Fixed, 5.0%, 3.25 points\n",
      " Total payments = $393011\n",
      "4.5% for 48 months, then 9.5%\n",
      " Total payments = $364813\n"
     ]
    }
   ],
   "source": [
    "def compareMortgages(amt, years, fixedRate, pts, ptsRate,\n",
    "    varRate1, varRate2, varMonths):\n",
    "    totMonths = years*12\n",
    "    fixed1 = Fixed(amt, fixedRate, totMonths)\n",
    "    fixed2 = FixedWithPts(amt, ptsRate, totMonths, pts)\n",
    "    twoRate = TwoRate(amt, varRate2, totMonths, varRate1, varMonths)\n",
    "    morts = [fixed1, fixed2, twoRate]\n",
    "    for m in range(totMonths):\n",
    "        for mort in morts:\n",
    "            mort.makePayment()\n",
    "    for m in morts:\n",
    "        print(m)\n",
    "        print(' Total payments = $' + str(int(m.getTotalPaid())))\n",
    "\n",
    "compareMortgages(amt=200000, years=30, fixedRate=0.07,\n",
    "pts = 3.25, ptsRate=0.05, varRate1=0.045,\n",
    "varRate2=0.095, varMonths=48)"
   ]
  },
  {
   "cell_type": "code",
   "execution_count": null,
   "metadata": {},
   "outputs": [],
   "source": []
  }
 ],
 "metadata": {
  "kernelspec": {
   "display_name": "Python 3",
   "language": "python",
   "name": "python3"
  },
  "language_info": {
   "codemirror_mode": {
    "name": "ipython",
    "version": 3
   },
   "file_extension": ".py",
   "mimetype": "text/x-python",
   "name": "python",
   "nbconvert_exporter": "python",
   "pygments_lexer": "ipython3",
   "version": "3.7.4"
  }
 },
 "nbformat": 4,
 "nbformat_minor": 2
}
