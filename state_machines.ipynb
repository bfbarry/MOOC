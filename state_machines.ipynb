{
 "cells": [
  {
   "cell_type": "code",
   "execution_count": 21,
   "metadata": {},
   "outputs": [],
   "source": [
    "class SM(object): \n",
    "    def start(self):\n",
    "        self.state = self.startState\n",
    "        \n",
    "    def step(self,inp):\n",
    "        (s,o) = self.getNextValues(self.state, inp)\n",
    "        self.state = s\n",
    "        return o\n",
    "    \n",
    "    def transduce(self, inputs):\n",
    "        self.start()\n",
    "        return [self.step(i) for i in inputs]\n",
    "\n",
    "class Accumulator(SM):\n",
    "    startState = 0\n",
    "    def getNextValues(self, state, inp):\n",
    "        return (state + inp, state + inp)\n",
    "\n"
   ]
  },
  {
   "cell_type": "code",
   "execution_count": 22,
   "metadata": {},
   "outputs": [
    {
     "data": {
      "text/plain": [
       "[100, 97, 101, -22, -12]"
      ]
     },
     "execution_count": 22,
     "metadata": {},
     "output_type": "execute_result"
    }
   ],
   "source": [
    "a = Accumulator()\n",
    "a.transduce([100, -3, 4, -123, 10])"
   ]
  },
  {
   "cell_type": "code",
   "execution_count": 23,
   "metadata": {},
   "outputs": [],
   "source": [
    "#language acceptor\n",
    "class ABC(SM):\n",
    "    startState = 0\n",
    "    def getNextValues(self, state, inp):\n",
    "        if state == 0 and inp == 'a':\n",
    "            return (1, True)\n",
    "        elif state == 1 and inp =='b':\n",
    "            return (2, True)\n",
    "        elif state == 2 and inp =='c':\n",
    "            return (0, True)"
   ]
  },
  {
   "cell_type": "code",
   "execution_count": 33,
   "metadata": {},
   "outputs": [],
   "source": [
    "class UpDown(SM):\n",
    "    startState = 0\n",
    "    def getNextValues(self, state, inp):\n",
    "        if inp == 'u':\n",
    "            return (state + 1, state + 1)\n",
    "        else:\n",
    "            return (state - 1, state - 1)"
   ]
  },
  {
   "cell_type": "code",
   "execution_count": 34,
   "metadata": {},
   "outputs": [
    {
     "data": {
      "text/plain": [
       "[1, 2]"
      ]
     },
     "execution_count": 34,
     "metadata": {},
     "output_type": "execute_result"
    }
   ],
   "source": [
    "a = UpDown()\n",
    "a.transduce(['u','u'])"
   ]
  },
  {
   "cell_type": "code",
   "execution_count": null,
   "metadata": {},
   "outputs": [],
   "source": [
    "class Average2():\n",
    "    startState = 0\n",
    "    def getNextValues(self, state, inp):\n",
    "        avg = (state+inp)/2\n",
    "        state = state + inp\n",
    "        \n",
    "        return state, avg"
   ]
  },
  {
   "cell_type": "markdown",
   "metadata": {},
   "source": [
    "# Parallel, Cascades"
   ]
  },
  {
   "cell_type": "code",
   "execution_count": null,
   "metadata": {},
   "outputs": [],
   "source": [
    "class Parallel(SM):\n",
    "    def __init__(self, sm1, sm2):\n",
    "        self.m1 = sm1\n",
    "        self.m2 = sm2\n",
    "        self.startState = (sm1.startState, sm2.startState)\n",
    "    def getNextValues(self,state,inp):\n",
    "        (s1,s2) = state\n",
    "        (newS1, o1) = self.m1.getNextValues(s1, inp)\n",
    "        (newS2, o2) = self.m2.getNextValues(s2, inp)\n",
    "        return ((newS1, newS2), (o1,o2))\n",
    "    "
   ]
  },
  {
   "cell_type": "code",
   "execution_count": 37,
   "metadata": {},
   "outputs": [
    {
     "data": {
      "text/plain": [
       "2"
      ]
     },
     "execution_count": 37,
     "metadata": {},
     "output_type": "execute_result"
    }
   ],
   "source": [
    "x = lambda x: x+1\n",
    "x(1)\n",
    "    "
   ]
  },
  {
   "cell_type": "code",
   "execution_count": null,
   "metadata": {},
   "outputs": [],
   "source": []
  }
 ],
 "metadata": {
  "kernelspec": {
   "display_name": "Python 3",
   "language": "python",
   "name": "python3"
  },
  "language_info": {
   "codemirror_mode": {
    "name": "ipython",
    "version": 3
   },
   "file_extension": ".py",
   "mimetype": "text/x-python",
   "name": "python",
   "nbconvert_exporter": "python",
   "pygments_lexer": "ipython3",
   "version": "3.7.4"
  }
 },
 "nbformat": 4,
 "nbformat_minor": 2
}
