{
 "cells": [
  {
   "cell_type": "code",
   "execution_count": 114,
   "metadata": {
    "execution": {
     "iopub.execute_input": "2021-01-10T03:42:41.185201Z",
     "iopub.status.busy": "2021-01-10T03:42:41.184372Z",
     "iopub.status.idle": "2021-01-10T03:42:41.193486Z",
     "shell.execute_reply": "2021-01-10T03:42:41.190705Z",
     "shell.execute_reply.started": "2021-01-10T03:42:41.184872Z"
    }
   },
   "outputs": [],
   "source": [
    "import numpy as np\n",
    "import matplotlib.pyplot as plt\n",
    "from IPython.display import clear_output"
   ]
  },
  {
   "cell_type": "code",
   "execution_count": 202,
   "metadata": {
    "execution": {
     "iopub.execute_input": "2021-01-10T04:15:36.141974Z",
     "iopub.status.busy": "2021-01-10T04:15:36.141318Z",
     "iopub.status.idle": "2021-01-10T04:15:36.160452Z",
     "shell.execute_reply": "2021-01-10T04:15:36.158176Z",
     "shell.execute_reply.started": "2021-01-10T04:15:36.141689Z"
    }
   },
   "outputs": [],
   "source": [
    "def batch_gradient_descent(x, y, epochs, a = 0.0001):\n",
    "    theta = np.zeros(2)\n",
    "    \n",
    "    converge = False\n",
    "    #theta_prev = the\n",
    "    #while not converge:\n",
    "    for e in range(epochs):\n",
    "        sum_0 = 0\n",
    "        sum_1 = 0\n",
    "        #for j in range(2):\n",
    "        for i in range(len(x)):\n",
    "\n",
    "            sum_0 += ((theta[0] + theta[1] * x[i]) - y[i])*1\n",
    "            theta[0] = theta[0] - a*sum_0\n",
    "            \n",
    "            sum_1 += ((theta[0] + theta[1] * x[i]) - y[i])*x[i] \n",
    "            theta[1] = theta[1] - a*sum_1\n",
    "    return theta"
   ]
  },
  {
   "cell_type": "code",
   "execution_count": 203,
   "metadata": {
    "execution": {
     "iopub.execute_input": "2021-01-10T04:15:36.775460Z",
     "iopub.status.busy": "2021-01-10T04:15:36.774710Z",
     "iopub.status.idle": "2021-01-10T04:15:43.195684Z",
     "shell.execute_reply": "2021-01-10T04:15:43.193754Z",
     "shell.execute_reply.started": "2021-01-10T04:15:36.775189Z"
    }
   },
   "outputs": [
    {
     "data": {
      "image/png": "[encoded data removed]",
      "text/plain": [
       "<Figure size 432x288 with 1 Axes>"
      ]
     },
     "metadata": {
      "needs_background": "light"
     },
     "output_type": "display_data"
    }
   ],
   "source": [
    "clean_x = np.linspace(0,10,100)\n",
    "clean_y = 0.5*(clean_x)+2\n",
    "noisy_y = np.random.normal(clean_y, scale = 0.2)\n",
    "\n",
    "for i in range(20):\n",
    "    t = batch_gradient_descent(clean_x, noisy_y, epochs=i)\n",
    "    plt.plot(clean_x, noisy_y, 'o')\n",
    "    plt.plot(clean_x, t[1]*clean_x+t[0])\n",
    "    plt.show()\n",
    "    clear_output(wait=True)"
   ]
  },
  {
   "cell_type": "code",
   "execution_count": null,
   "metadata": {},
   "outputs": [],
   "source": []
  }
 ],
 "metadata": {
  "kernelspec": {
   "display_name": "Python 3",
   "language": "python",
   "name": "python3"
  },
  "language_info": {
   "codemirror_mode": {
    "name": "ipython",
    "version": 3
   },
   "file_extension": ".py",
   "mimetype": "text/x-python",
   "name": "python",
   "nbconvert_exporter": "python",
   "pygments_lexer": "ipython3",
   "version": "3.7.4"
  }
 },
 "nbformat": 4,
 "nbformat_minor": 4
}
