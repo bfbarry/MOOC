{
 "cells": [
  {
   "cell_type": "code",
   "execution_count": 114,
   "metadata": {
    "execution": {
     "iopub.execute_input": "2021-01-10T03:42:41.185201Z",
     "iopub.status.busy": "2021-01-10T03:42:41.184372Z",
     "iopub.status.idle": "2021-01-10T03:42:41.193486Z",
     "shell.execute_reply": "2021-01-10T03:42:41.190705Z",
     "shell.execute_reply.started": "2021-01-10T03:42:41.184872Z"
    }
   },
   "outputs": [],
   "source": [
    "import numpy as np\n",
    "import matplotlib.pyplot as plt\n",
    "from IPython.display import clear_output"
   ]
  },
  {
   "cell_type": "code",
   "execution_count": 183,
   "metadata": {
    "execution": {
     "iopub.execute_input": "2021-01-10T04:09:21.185510Z",
     "iopub.status.busy": "2021-01-10T04:09:21.185006Z",
     "iopub.status.idle": "2021-01-10T04:09:21.214192Z",
     "shell.execute_reply": "2021-01-10T04:09:21.212542Z",
     "shell.execute_reply.started": "2021-01-10T04:09:21.185391Z"
    }
   },
   "outputs": [],
   "source": [
    "def batch_gradient_descent(x, y, epochs, a = 0.0001):\n",
    "    '''This one reads unintuitively with the sum and might be wrong'''\n",
    "    theta = np.zeros(2)\n",
    "    \n",
    "    converge = False\n",
    "    #theta_prev = the\n",
    "    #while not converge:\n",
    "    for e in range(epochs):\n",
    "        for i in range(len(x)):\n",
    "            sum_ = 0\n",
    "            for j in range(2):\n",
    "                if j == 0:\n",
    "                    sum_ += ((theta[0] + theta[1] * x[i]) - y[i])*1\n",
    "                else:\n",
    "                    sum_ += ((theta[0] + theta[1] * x[i]) - y[i])*x[i] \n",
    "                theta[j] = theta[j] - a*sum_\n",
    "    return theta\n",
    "\n",
    "def batch_gradient_descent2(x, y, epochs, a = 0.0001):\n",
    "    theta = np.zeros(2)\n",
    "    \n",
    "    converge = False\n",
    "    #theta_prev = the\n",
    "    #while not converge:\n",
    "    for e in range(epochs):\n",
    "        sum_0 = 0\n",
    "        sum_1 = 0\n",
    "        #for j in range(2):\n",
    "        for i in range(len(x)):\n",
    "\n",
    "            sum_0 += ((theta[0] + theta[1] * x[i]) - y[i])*1\n",
    "            theta[0] = theta[0] - a*sum_0\n",
    "            \n",
    "            sum_1 += ((theta[0] + theta[1] * x[i]) - y[i])*x[i] \n",
    "            theta[1] = theta[1] - a*sum_1\n",
    "    return theta"
   ]
  },
  {
   "cell_type": "code",
   "execution_count": 187,
   "metadata": {
    "execution": {
     "iopub.execute_input": "2021-01-10T04:09:50.076911Z",
     "iopub.status.busy": "2021-01-10T04:09:50.076337Z",
     "iopub.status.idle": "2021-01-10T04:09:50.786792Z",
     "shell.execute_reply": "2021-01-10T04:09:50.784357Z",
     "shell.execute_reply.started": "2021-01-10T04:09:50.076674Z"
    }
   },
   "outputs": [
    {
     "data": {
      "text/plain": [
       "array([1.99748648, 0.48516824])"
      ]
     },
     "execution_count": 187,
     "metadata": {},
     "output_type": "execute_result"
    }
   ],
   "source": [
    "batch_gradient_descent2(clean_x, noisy_y, epochs=1000)"
   ]
  },
  {
   "cell_type": "code",
   "execution_count": 136,
   "metadata": {
    "execution": {
     "iopub.execute_input": "2021-01-10T03:48:27.626221Z",
     "iopub.status.busy": "2021-01-10T03:48:27.625492Z",
     "iopub.status.idle": "2021-01-10T03:48:28.811135Z",
     "shell.execute_reply": "2021-01-10T03:48:28.809406Z",
     "shell.execute_reply.started": "2021-01-10T03:48:27.626079Z"
    }
   },
   "outputs": [
    {
     "data": {
      "image/png": "[encoded data removed]",
      "text/plain": [
       "<Figure size 432x288 with 1 Axes>"
      ]
     },
     "metadata": {
      "needs_background": "light"
     },
     "output_type": "display_data"
    }
   ],
   "source": [
    "clean_x = np.linspace(0,10,100)\n",
    "clean_y = 0.5*(clean_x)+2\n",
    "noisy_y = np.random.normal(clean_y, scale = 0.2)\n",
    "\n",
    "\n",
    "t = batch_gradient_descent(clean_x, noisy_y, epochs=1000)\n",
    "plt.plot(clean_x, noisy_y, 'o')\n",
    "plt.plot(clean_x, t[1]*clean_x+t[0])\n",
    "plt.show()"
   ]
  },
  {
   "cell_type": "code",
   "execution_count": 191,
   "metadata": {
    "execution": {
     "iopub.execute_input": "2021-01-10T04:11:13.209686Z",
     "iopub.status.busy": "2021-01-10T04:11:13.208925Z",
     "iopub.status.idle": "2021-01-10T04:11:13.612118Z",
     "shell.execute_reply": "2021-01-10T04:11:13.609314Z",
     "shell.execute_reply.started": "2021-01-10T04:11:13.209388Z"
    }
   },
   "outputs": [
    {
     "data": {
      "image/png": "[encoded data removed]",
      "text/plain": [
       "<Figure size 432x288 with 1 Axes>"
      ]
     },
     "metadata": {
      "needs_background": "light"
     },
     "output_type": "display_data"
    }
   ],
   "source": [
    "plt.plot(clean_x, noisy_y, 'o')\n",
    "plt.plot(clean_x, m*clean_x+b)\n",
    "plt.show()"
   ]
  },
  {
   "cell_type": "code",
   "execution_count": null,
   "metadata": {},
   "outputs": [],
   "source": []
  }
 ],
 "metadata": {
  "kernelspec": {
   "display_name": "Python 3",
   "language": "python",
   "name": "python3"
  },
  "language_info": {
   "codemirror_mode": {
    "name": "ipython",
    "version": 3
   },
   "file_extension": ".py",
   "mimetype": "text/x-python",
   "name": "python",
   "nbconvert_exporter": "python",
   "pygments_lexer": "ipython3",
   "version": "3.7.4"
  }
 },
 "nbformat": 4,
 "nbformat_minor": 4
}
