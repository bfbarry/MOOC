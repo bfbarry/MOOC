{
 "cells": [
  {
   "cell_type": "code",
   "execution_count": 1,
   "metadata": {
    "execution": {
     "iopub.execute_input": "2020-12-24T20:39:56.880897Z",
     "iopub.status.busy": "2020-12-24T20:39:56.880037Z",
     "iopub.status.idle": "2020-12-24T20:39:57.494179Z",
     "shell.execute_reply": "2020-12-24T20:39:57.492687Z",
     "shell.execute_reply.started": "2020-12-24T20:39:56.880542Z"
    }
   },
   "outputs": [],
   "source": [
    "import numpy as np"
   ]
  },
  {
   "cell_type": "code",
   "execution_count": 8,
   "metadata": {
    "execution": {
     "iopub.execute_input": "2020-12-24T20:43:20.269008Z",
     "iopub.status.busy": "2020-12-24T20:43:20.268210Z",
     "iopub.status.idle": "2020-12-24T20:43:20.297215Z",
     "shell.execute_reply": "2020-12-24T20:43:20.291505Z",
     "shell.execute_reply.started": "2020-12-24T20:43:20.268895Z"
    }
   },
   "outputs": [
    {
     "name": "stdout",
     "output_type": "stream",
     "text": [
      "1\n",
      "2\n"
     ]
    }
   ],
   "source": [
    "x,y = np.zeros(10), np.zeros(10)\n",
    "f = lambda x,y: x**2 + 3*y**2\n",
    "x[0],y[0]=3,2\n",
    "# for j in range(1,10):\n",
    "#     del_ = (x[j]**2 + 9*y[j]**2)/"
   ]
  },
  {
   "cell_type": "code",
   "execution_count": 19,
   "metadata": {
    "execution": {
     "iopub.execute_input": "2020-12-27T02:09:33.087964Z",
     "iopub.status.busy": "2020-12-27T02:09:33.087527Z",
     "iopub.status.idle": "2020-12-27T02:09:33.098807Z",
     "shell.execute_reply": "2020-12-27T02:09:33.097422Z",
     "shell.execute_reply.started": "2020-12-27T02:09:33.087875Z"
    }
   },
   "outputs": [
    {
     "name": "stdout",
     "output_type": "stream",
     "text": [
      "problemMatrix = [\n",
      "\t[ 4,  5,  6,  7,  8,  7,  6,  5,  4,  3,  2],\n",
      "\t[ 5,  6,  7,  8,  9,  8,  7,  6,  5,  4,  3],\n",
      "\t[ 6,  7,  8,  9, 10,  9,  8,  7,  6,  5,  4],\n",
      "\t[ 7,  8,  9, 10, 11, 10,  9,  8,  7,  6,  5],\n",
      "\t[ 8,  9, 10, 11, 12, 11, 10,  9,  8,  7,  6],\n",
      "\t[ 7,  8,  9, 10, 11, 10,  9,  8,  7,  6,  5],\n",
      "\t[ 6,  7,  8,  9, 10,  9,  8,  7,  6,  5,  4],\n",
      "\t[ 5,  6,  7,  8,  9,  8,  7,  6,  5,  4,  3],\n",
      "\t[ 4,  5,  6,  7,  8,  7,  6,  5,  4,  3,  2],\n",
      "\t[ 3,  4,  5,  6,  7,  6,  5,  4,  3,  2,  1],\n",
      "\t[ 2,  3,  4,  5,  6,  5,  4,  3,  2,  1,  0]\n",
      "]\n",
      "\n"
     ]
    }
   ],
   "source": [
    "namespace = dict()\n",
    "with open('../../Resources/6-006-fall-2011_/contents/assignments/ps1/problem.py') as handle:\n",
    "    exec(handle.read(), namespace)"
   ]
  },
  {
   "cell_type": "code",
   "execution_count": 94,
   "metadata": {
    "execution": {
     "iopub.execute_input": "2020-12-27T03:39:14.120313Z",
     "iopub.status.busy": "2020-12-27T03:39:14.119442Z",
     "iopub.status.idle": "2020-12-27T03:39:14.136531Z",
     "shell.execute_reply": "2020-12-27T03:39:14.135197Z",
     "shell.execute_reply.started": "2020-12-27T03:39:14.119945Z"
    }
   },
   "outputs": [
    {
     "name": "stdout",
     "output_type": "stream",
     "text": [
      "3\n"
     ]
    }
   ],
   "source": [
    "def findPeak(arr):\n",
    "    for n_i, i in enumerate(arr):\n",
    "        if n_i == 0:\n",
    "            if i > arr[n_i +1 ]:\n",
    "                return i\n",
    "        elif n_i == len(arr) +1:\n",
    "            if i > arr[n_i - 1 ]:\n",
    "                return i\n",
    "        else:\n",
    "            if i > arr[n_i +1 ] and i > arr[n_i - 1 ]:\n",
    "                return i\n",
    "def findPeakRec(arr):\n",
    "    mid = len(arr)//2\n",
    "#     print('index:',mid)\n",
    "#     print('curr array, ', arr)\n",
    "    if len(arr)==2:\n",
    "#         print('final mid', mid)\n",
    "#         print('final arr', arr)\n",
    "        return arr[mid]\n",
    "    elif len(arr)==1:\n",
    "        return arr[0]\n",
    "    if arr[mid] < arr[mid - 1]:\n",
    "#         print('returning arr, mid', arr, mid)\n",
    "        return findPeakRec(arr[:mid])\n",
    "    elif arr[mid] < arr[mid + 1]:\n",
    "#         print('returning arr, mid', arr, mid)\n",
    "        return findPeakRec(arr[mid:])\n",
    "    else:\n",
    "        return arr[mid]\n",
    "    \n",
    "x = findPeakRec([1,2,3,1,2,3])\n",
    "print(x)"
   ]
  }
 ],
 "metadata": {
  "kernelspec": {
   "display_name": "Python 3",
   "language": "python",
   "name": "python3"
  },
  "language_info": {
   "codemirror_mode": {
    "name": "ipython",
    "version": 3
   },
   "file_extension": ".py",
   "mimetype": "text/x-python",
   "name": "python",
   "nbconvert_exporter": "python",
   "pygments_lexer": "ipython3",
   "version": "3.7.4"
  }
 },
 "nbformat": 4,
 "nbformat_minor": 4
}
